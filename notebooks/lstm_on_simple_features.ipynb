{
 "cells": [
  {
   "cell_type": "markdown",
   "metadata": {},
   "source": [
    "# Problem Definition"
   ]
  },
  {
   "cell_type": "markdown",
   "metadata": {},
   "source": [
    "The datathon results should contain predictions for each ATM for each day and should be provided in csv format consisting of three columns:\n",
    "\n",
    "* CASHPOINTID - unique identifier of ATM for which the prediction is made;\n",
    "* OPERATIONDATE - date (must be in [2020-01-01 - 2020-01-31] period) for which the prediction is made;\n",
    "* AMT_SCALED - predicted total daily withdrawal amount (scaled)\n",
    "\n",
    "Participants will be asked for the repository in which they built the forecasting model.\n",
    "\n",
    "After submitting the results, participants are expected to explain their approach, extracted insights and model.\n",
    "\n",
    "\n",
    "\n",
    "Work done will be evaluated according to the following criteria:\n",
    "\n",
    "* OOS (Out of Sample) error metrics;\n",
    "* Ability to communicate the results;\n",
    "* Code quality and implementability.\n"
   ]
  },
  {
   "cell_type": "markdown",
   "metadata": {},
   "source": [
    "# Imports"
   ]
  },
  {
   "cell_type": "code",
   "execution_count": 1,
   "metadata": {},
   "outputs": [],
   "source": [
    "import pandas as pd\n",
    "import os\n",
    "import sys\n",
    "import matplotlib.pyplot as plt\n",
    "import numpy as np"
   ]
  },
  {
   "cell_type": "code",
   "execution_count": 2,
   "metadata": {},
   "outputs": [],
   "source": [
    "os.chdir('../')"
   ]
  },
  {
   "cell_type": "markdown",
   "metadata": {},
   "source": [
    "# Read Data"
   ]
  },
  {
   "cell_type": "markdown",
   "metadata": {},
   "source": [
    "* CASHPOINTID - unique identifier of ATM for which the prediction is made;\n",
    "* OPERATIONDATE - date (must be in [2020-01-01 - 2020-01-31] period) for which the prediction is made;\n",
    "* AMT_SCALED - predicted total daily withdrawal amount (scaled)"
   ]
  },
  {
   "cell_type": "code",
   "execution_count": 3,
   "metadata": {},
   "outputs": [],
   "source": [
    "df = pd.read_csv('data/train_aggregated_by_day.csv')\n",
    "df.date = pd.to_datetime(df.date)\n",
    "df.set_index('date', inplace=True)"
   ]
  },
  {
   "cell_type": "code",
   "execution_count": 4,
   "metadata": {},
   "outputs": [
    {
     "data": {
      "text/html": [
       "<div>\n",
       "<style scoped>\n",
       "    .dataframe tbody tr th:only-of-type {\n",
       "        vertical-align: middle;\n",
       "    }\n",
       "\n",
       "    .dataframe tbody tr th {\n",
       "        vertical-align: top;\n",
       "    }\n",
       "\n",
       "    .dataframe thead th {\n",
       "        text-align: right;\n",
       "    }\n",
       "</style>\n",
       "<table border=\"1\" class=\"dataframe\">\n",
       "  <thead>\n",
       "    <tr style=\"text-align: right;\">\n",
       "      <th></th>\n",
       "      <th>id</th>\n",
       "      <th>amt</th>\n",
       "    </tr>\n",
       "    <tr>\n",
       "      <th>date</th>\n",
       "      <th></th>\n",
       "      <th></th>\n",
       "    </tr>\n",
       "  </thead>\n",
       "  <tbody>\n",
       "    <tr>\n",
       "      <th>2017-01-01</th>\n",
       "      <td>0</td>\n",
       "      <td>0.027997</td>\n",
       "    </tr>\n",
       "    <tr>\n",
       "      <th>2017-01-02</th>\n",
       "      <td>0</td>\n",
       "      <td>0.040519</td>\n",
       "    </tr>\n",
       "    <tr>\n",
       "      <th>2017-01-03</th>\n",
       "      <td>0</td>\n",
       "      <td>0.136281</td>\n",
       "    </tr>\n",
       "    <tr>\n",
       "      <th>2017-01-04</th>\n",
       "      <td>0</td>\n",
       "      <td>0.000074</td>\n",
       "    </tr>\n",
       "    <tr>\n",
       "      <th>2017-01-05</th>\n",
       "      <td>0</td>\n",
       "      <td>0.075411</td>\n",
       "    </tr>\n",
       "  </tbody>\n",
       "</table>\n",
       "</div>"
      ],
      "text/plain": [
       "            id       amt\n",
       "date                    \n",
       "2017-01-01   0  0.027997\n",
       "2017-01-02   0  0.040519\n",
       "2017-01-03   0  0.136281\n",
       "2017-01-04   0  0.000074\n",
       "2017-01-05   0  0.075411"
      ]
     },
     "execution_count": 4,
     "metadata": {},
     "output_type": "execute_result"
    }
   ],
   "source": [
    "df.head()"
   ]
  },
  {
   "cell_type": "markdown",
   "metadata": {},
   "source": [
    "# Data Preprocessing"
   ]
  },
  {
   "cell_type": "markdown",
   "metadata": {},
   "source": [
    "### generate sliding windows"
   ]
  },
  {
   "cell_type": "code",
   "execution_count": 90,
   "metadata": {},
   "outputs": [],
   "source": [
    "def get_window(dataframe, size=10, by='id', target='amt'):\n",
    "    columns = []\n",
    "    for column in dataframe.columns:\n",
    "        for idx in range(size):\n",
    "            columns.append(f'{column}(t-{size-idx})')\n",
    "        \n",
    "    records = []\n",
    "    targets = []\n",
    "    indices = []\n",
    "    for grp_id, group in dataframe.groupby('id'):\n",
    "        for target_idx in range(0, len(group) - size - 1):\n",
    "            record = []\n",
    "            for column_idx, column in enumerate(group.columns):\n",
    "                for idx in range(size):\n",
    "                    record.append(group.iloc[target_idx+idx, column_idx])\n",
    "            \n",
    "            indices.append(group.index[target_idx+size])\n",
    "            records.append(record)\n",
    "            targets.append(group.iloc[target_idx+size, -1])\n",
    "        \n",
    "    return pd.DataFrame(records, index=indices, columns=columns), pd.DataFrame(targets, index=indices)"
   ]
  },
  {
   "cell_type": "code",
   "execution_count": 92,
   "metadata": {},
   "outputs": [],
   "source": [
    "_X, _Y = get_window(df.head(200))"
   ]
  },
  {
   "cell_type": "code",
   "execution_count": 94,
   "metadata": {},
   "outputs": [
    {
     "data": {
      "text/html": [
       "<div>\n",
       "<style scoped>\n",
       "    .dataframe tbody tr th:only-of-type {\n",
       "        vertical-align: middle;\n",
       "    }\n",
       "\n",
       "    .dataframe tbody tr th {\n",
       "        vertical-align: top;\n",
       "    }\n",
       "\n",
       "    .dataframe thead th {\n",
       "        text-align: right;\n",
       "    }\n",
       "</style>\n",
       "<table border=\"1\" class=\"dataframe\">\n",
       "  <thead>\n",
       "    <tr style=\"text-align: right;\">\n",
       "      <th></th>\n",
       "      <th>id(t-10)</th>\n",
       "      <th>id(t-9)</th>\n",
       "      <th>id(t-8)</th>\n",
       "      <th>id(t-7)</th>\n",
       "      <th>id(t-6)</th>\n",
       "      <th>id(t-5)</th>\n",
       "      <th>id(t-4)</th>\n",
       "      <th>id(t-3)</th>\n",
       "      <th>id(t-2)</th>\n",
       "      <th>id(t-1)</th>\n",
       "      <th>amt(t-10)</th>\n",
       "      <th>amt(t-9)</th>\n",
       "      <th>amt(t-8)</th>\n",
       "      <th>amt(t-7)</th>\n",
       "      <th>amt(t-6)</th>\n",
       "      <th>amt(t-5)</th>\n",
       "      <th>amt(t-4)</th>\n",
       "      <th>amt(t-3)</th>\n",
       "      <th>amt(t-2)</th>\n",
       "      <th>amt(t-1)</th>\n",
       "    </tr>\n",
       "  </thead>\n",
       "  <tbody>\n",
       "    <tr>\n",
       "      <th>2017-01-11</th>\n",
       "      <td>0</td>\n",
       "      <td>0</td>\n",
       "      <td>0</td>\n",
       "      <td>0</td>\n",
       "      <td>0</td>\n",
       "      <td>0</td>\n",
       "      <td>0</td>\n",
       "      <td>0</td>\n",
       "      <td>0</td>\n",
       "      <td>0</td>\n",
       "      <td>0.027997</td>\n",
       "      <td>0.040519</td>\n",
       "      <td>0.136281</td>\n",
       "      <td>0.000074</td>\n",
       "      <td>0.075411</td>\n",
       "      <td>0.107680</td>\n",
       "      <td>0.042070</td>\n",
       "      <td>0.040568</td>\n",
       "      <td>0.102029</td>\n",
       "      <td>0.137586</td>\n",
       "    </tr>\n",
       "    <tr>\n",
       "      <th>2017-01-12</th>\n",
       "      <td>0</td>\n",
       "      <td>0</td>\n",
       "      <td>0</td>\n",
       "      <td>0</td>\n",
       "      <td>0</td>\n",
       "      <td>0</td>\n",
       "      <td>0</td>\n",
       "      <td>0</td>\n",
       "      <td>0</td>\n",
       "      <td>0</td>\n",
       "      <td>0.040519</td>\n",
       "      <td>0.136281</td>\n",
       "      <td>0.000074</td>\n",
       "      <td>0.075411</td>\n",
       "      <td>0.107680</td>\n",
       "      <td>0.042070</td>\n",
       "      <td>0.040568</td>\n",
       "      <td>0.102029</td>\n",
       "      <td>0.137586</td>\n",
       "      <td>0.000000</td>\n",
       "    </tr>\n",
       "    <tr>\n",
       "      <th>2017-01-13</th>\n",
       "      <td>0</td>\n",
       "      <td>0</td>\n",
       "      <td>0</td>\n",
       "      <td>0</td>\n",
       "      <td>0</td>\n",
       "      <td>0</td>\n",
       "      <td>0</td>\n",
       "      <td>0</td>\n",
       "      <td>0</td>\n",
       "      <td>0</td>\n",
       "      <td>0.136281</td>\n",
       "      <td>0.000074</td>\n",
       "      <td>0.075411</td>\n",
       "      <td>0.107680</td>\n",
       "      <td>0.042070</td>\n",
       "      <td>0.040568</td>\n",
       "      <td>0.102029</td>\n",
       "      <td>0.137586</td>\n",
       "      <td>0.000000</td>\n",
       "      <td>0.092179</td>\n",
       "    </tr>\n",
       "    <tr>\n",
       "      <th>2017-01-14</th>\n",
       "      <td>0</td>\n",
       "      <td>0</td>\n",
       "      <td>0</td>\n",
       "      <td>0</td>\n",
       "      <td>0</td>\n",
       "      <td>0</td>\n",
       "      <td>0</td>\n",
       "      <td>0</td>\n",
       "      <td>0</td>\n",
       "      <td>0</td>\n",
       "      <td>0.000074</td>\n",
       "      <td>0.075411</td>\n",
       "      <td>0.107680</td>\n",
       "      <td>0.042070</td>\n",
       "      <td>0.040568</td>\n",
       "      <td>0.102029</td>\n",
       "      <td>0.137586</td>\n",
       "      <td>0.000000</td>\n",
       "      <td>0.092179</td>\n",
       "      <td>0.108690</td>\n",
       "    </tr>\n",
       "    <tr>\n",
       "      <th>2017-01-15</th>\n",
       "      <td>0</td>\n",
       "      <td>0</td>\n",
       "      <td>0</td>\n",
       "      <td>0</td>\n",
       "      <td>0</td>\n",
       "      <td>0</td>\n",
       "      <td>0</td>\n",
       "      <td>0</td>\n",
       "      <td>0</td>\n",
       "      <td>0</td>\n",
       "      <td>0.075411</td>\n",
       "      <td>0.107680</td>\n",
       "      <td>0.042070</td>\n",
       "      <td>0.040568</td>\n",
       "      <td>0.102029</td>\n",
       "      <td>0.137586</td>\n",
       "      <td>0.000000</td>\n",
       "      <td>0.092179</td>\n",
       "      <td>0.108690</td>\n",
       "      <td>0.070030</td>\n",
       "    </tr>\n",
       "  </tbody>\n",
       "</table>\n",
       "</div>"
      ],
      "text/plain": [
       "            id(t-10)  id(t-9)  id(t-8)  id(t-7)  id(t-6)  id(t-5)  id(t-4)  \\\n",
       "2017-01-11         0        0        0        0        0        0        0   \n",
       "2017-01-12         0        0        0        0        0        0        0   \n",
       "2017-01-13         0        0        0        0        0        0        0   \n",
       "2017-01-14         0        0        0        0        0        0        0   \n",
       "2017-01-15         0        0        0        0        0        0        0   \n",
       "\n",
       "            id(t-3)  id(t-2)  id(t-1)  amt(t-10)  amt(t-9)  amt(t-8)  \\\n",
       "2017-01-11        0        0        0   0.027997  0.040519  0.136281   \n",
       "2017-01-12        0        0        0   0.040519  0.136281  0.000074   \n",
       "2017-01-13        0        0        0   0.136281  0.000074  0.075411   \n",
       "2017-01-14        0        0        0   0.000074  0.075411  0.107680   \n",
       "2017-01-15        0        0        0   0.075411  0.107680  0.042070   \n",
       "\n",
       "            amt(t-7)  amt(t-6)  amt(t-5)  amt(t-4)  amt(t-3)  amt(t-2)  \\\n",
       "2017-01-11  0.000074  0.075411  0.107680  0.042070  0.040568  0.102029   \n",
       "2017-01-12  0.075411  0.107680  0.042070  0.040568  0.102029  0.137586   \n",
       "2017-01-13  0.107680  0.042070  0.040568  0.102029  0.137586  0.000000   \n",
       "2017-01-14  0.042070  0.040568  0.102029  0.137586  0.000000  0.092179   \n",
       "2017-01-15  0.040568  0.102029  0.137586  0.000000  0.092179  0.108690   \n",
       "\n",
       "            amt(t-1)  \n",
       "2017-01-11  0.137586  \n",
       "2017-01-12  0.000000  \n",
       "2017-01-13  0.092179  \n",
       "2017-01-14  0.108690  \n",
       "2017-01-15  0.070030  "
      ]
     },
     "execution_count": 94,
     "metadata": {},
     "output_type": "execute_result"
    }
   ],
   "source": [
    "_X.head()"
   ]
  },
  {
   "cell_type": "code",
   "execution_count": 95,
   "metadata": {},
   "outputs": [
    {
     "data": {
      "text/html": [
       "<div>\n",
       "<style scoped>\n",
       "    .dataframe tbody tr th:only-of-type {\n",
       "        vertical-align: middle;\n",
       "    }\n",
       "\n",
       "    .dataframe tbody tr th {\n",
       "        vertical-align: top;\n",
       "    }\n",
       "\n",
       "    .dataframe thead th {\n",
       "        text-align: right;\n",
       "    }\n",
       "</style>\n",
       "<table border=\"1\" class=\"dataframe\">\n",
       "  <thead>\n",
       "    <tr style=\"text-align: right;\">\n",
       "      <th></th>\n",
       "      <th>0</th>\n",
       "    </tr>\n",
       "  </thead>\n",
       "  <tbody>\n",
       "    <tr>\n",
       "      <th>2017-01-11</th>\n",
       "      <td>0.000000</td>\n",
       "    </tr>\n",
       "    <tr>\n",
       "      <th>2017-01-12</th>\n",
       "      <td>0.092179</td>\n",
       "    </tr>\n",
       "    <tr>\n",
       "      <th>2017-01-13</th>\n",
       "      <td>0.108690</td>\n",
       "    </tr>\n",
       "    <tr>\n",
       "      <th>2017-01-14</th>\n",
       "      <td>0.070030</td>\n",
       "    </tr>\n",
       "    <tr>\n",
       "      <th>2017-01-15</th>\n",
       "      <td>0.063899</td>\n",
       "    </tr>\n",
       "  </tbody>\n",
       "</table>\n",
       "</div>"
      ],
      "text/plain": [
       "                   0\n",
       "2017-01-11  0.000000\n",
       "2017-01-12  0.092179\n",
       "2017-01-13  0.108690\n",
       "2017-01-14  0.070030\n",
       "2017-01-15  0.063899"
      ]
     },
     "execution_count": 95,
     "metadata": {},
     "output_type": "execute_result"
    }
   ],
   "source": [
    "_Y.head()"
   ]
  },
  {
   "cell_type": "code",
   "execution_count": 96,
   "metadata": {},
   "outputs": [],
   "source": [
    "X, Y = get_window(dataframe=df, size=7, by='id', target='amt')"
   ]
  },
  {
   "cell_type": "code",
   "execution_count": 108,
   "metadata": {},
   "outputs": [],
   "source": [
    "dataset = pd.concat([X, Y], axis=1)"
   ]
  },
  {
   "cell_type": "code",
   "execution_count": 110,
   "metadata": {},
   "outputs": [],
   "source": [
    "# dataset.to_csv('data/preprocessed_dataset_for_lstm_with_sliding_window_of_7.csv')"
   ]
  },
  {
   "cell_type": "code",
   "execution_count": 111,
   "metadata": {},
   "outputs": [],
   "source": [
    "# dataset = pd.read_csv('data/preprocessed_dataset_for_lstm_with_sliding_window_of_7.csv', index_col=0)\n",
    "# dataset.index = pd.to_datetime(dataset.index)"
   ]
  },
  {
   "cell_type": "markdown",
   "metadata": {},
   "source": [
    "### train/test split"
   ]
  },
  {
   "cell_type": "code",
   "execution_count": 112,
   "metadata": {},
   "outputs": [
    {
     "data": {
      "text/plain": [
       "(Timestamp('2017-01-01 00:00:00'),\n",
       " Timestamp('2019-12-31 00:00:00'),\n",
       " Timedelta('547 days 00:00:00'))"
      ]
     },
     "execution_count": 112,
     "metadata": {},
     "output_type": "execute_result"
    }
   ],
   "source": [
    "df.index.min(), df.index.max(), (df.index.max() - df.index.min())/2"
   ]
  },
  {
   "cell_type": "markdown",
   "metadata": {},
   "source": [
    "it's good to include last year's new year month in test split"
   ]
  },
  {
   "cell_type": "code",
   "execution_count": 113,
   "metadata": {},
   "outputs": [
    {
     "data": {
      "text/plain": [
       "(757832, 15)"
      ]
     },
     "execution_count": 113,
     "metadata": {},
     "output_type": "execute_result"
    }
   ],
   "source": [
    "dataset[dataset.index < pd.Timestamp('2018-12-31')].shape"
   ]
  },
  {
   "cell_type": "code",
   "execution_count": 114,
   "metadata": {},
   "outputs": [],
   "source": [
    "train_df, test_df = dataset[dataset.index < pd.Timestamp('2018-12-31')], dataset[dataset.index >= pd.Timestamp('2018-12-31')]"
   ]
  },
  {
   "cell_type": "markdown",
   "metadata": {},
   "source": [
    "# Train LSTM Model"
   ]
  },
  {
   "cell_type": "code",
   "execution_count": 144,
   "metadata": {},
   "outputs": [],
   "source": [
    "from sklearn.preprocessing import MinMaxScaler\n",
    "from sklearn.preprocessing import LabelEncoder\n",
    "from sklearn.metrics import mean_squared_error\n",
    "from keras.models import Sequential\n",
    "from keras.layers import Dense\n",
    "from keras.layers import LSTM\n",
    "import keras"
   ]
  },
  {
   "cell_type": "code",
   "execution_count": 139,
   "metadata": {},
   "outputs": [],
   "source": [
    "def save_model(model, path):\n",
    "    model.save(path)"
   ]
  },
  {
   "cell_type": "code",
   "execution_count": 145,
   "metadata": {},
   "outputs": [],
   "source": [
    "def load_model(path):\n",
    "    return keras.models.load_model(path)"
   ]
  },
  {
   "cell_type": "markdown",
   "metadata": {},
   "source": [
    "### get features and targets"
   ]
  },
  {
   "cell_type": "code",
   "execution_count": 130,
   "metadata": {},
   "outputs": [],
   "source": [
    "train_X, train_y = train_df.iloc[:, :-1].values, train_df.iloc[:, -1].values\n",
    "test_X, test_y = test_df.iloc[:, :-1].values, test_df.iloc[:, -1].values"
   ]
  },
  {
   "cell_type": "markdown",
   "metadata": {},
   "source": [
    "### reshape input to be 3D [samples, timesteps, features]"
   ]
  },
  {
   "cell_type": "code",
   "execution_count": 131,
   "metadata": {},
   "outputs": [
    {
     "name": "stdout",
     "output_type": "stream",
     "text": [
      "(757832, 1, 14) (757832,) (323457, 1, 14) (323457,)\n"
     ]
    }
   ],
   "source": [
    "train_X = train_X.reshape((train_X.shape[0], 1, train_X.shape[1]))\n",
    "test_X = test_X.reshape((test_X.shape[0], 1, test_X.shape[1]))\n",
    "\n",
    "print(train_X.shape, train_y.shape, test_X.shape, test_y.shape)"
   ]
  },
  {
   "cell_type": "code",
   "execution_count": 132,
   "metadata": {},
   "outputs": [],
   "source": [
    "model = Sequential()\n",
    "model.add(LSTM(30, input_shape=(train_X.shape[1], train_X.shape[2])))\n",
    "model.add(Dense(1))\n",
    "model.compile(loss='mae', optimizer='adam')"
   ]
  },
  {
   "cell_type": "code",
   "execution_count": 134,
   "metadata": {
    "scrolled": true
   },
   "outputs": [
    {
     "name": "stdout",
     "output_type": "stream",
     "text": [
      "Train on 757832 samples, validate on 323457 samples\n",
      "Epoch 1/50\n",
      "Epoch 2/50\n",
      "Epoch 3/50\n",
      "Epoch 4/50\n",
      "Epoch 5/50\n",
      "Epoch 6/50\n",
      "Epoch 7/50\n",
      "Epoch 8/50\n",
      "Epoch 9/50\n",
      "Epoch 10/50\n",
      "Epoch 11/50\n",
      "Epoch 12/50\n",
      "Epoch 13/50\n",
      "Epoch 14/50\n",
      "Epoch 15/50\n",
      "Epoch 16/50\n",
      "Epoch 17/50\n",
      "Epoch 18/50\n",
      "Epoch 19/50\n",
      "Epoch 20/50\n",
      "Epoch 21/50\n",
      "Epoch 22/50\n",
      "Epoch 23/50\n",
      "Epoch 24/50\n",
      "Epoch 25/50\n",
      "Epoch 26/50\n",
      "Epoch 27/50\n",
      "Epoch 28/50\n",
      "Epoch 29/50\n",
      "Epoch 30/50\n",
      "Epoch 31/50\n",
      "Epoch 32/50\n",
      "Epoch 33/50\n",
      "Epoch 34/50\n",
      "Epoch 35/50\n",
      "Epoch 36/50\n",
      "Epoch 37/50\n",
      "Epoch 38/50\n",
      "Epoch 39/50\n",
      "Epoch 40/50\n",
      "Epoch 41/50\n",
      "Epoch 42/50\n",
      "Epoch 43/50\n",
      "Epoch 44/50\n",
      "Epoch 45/50\n",
      "Epoch 46/50\n",
      "Epoch 47/50\n",
      "Epoch 48/50\n",
      "Epoch 49/50\n",
      "Epoch 50/50\n"
     ]
    }
   ],
   "source": [
    "history = model.fit(\n",
    "    train_X,\n",
    "    train_y, \n",
    "    epochs=50, \n",
    "    batch_size=72, \n",
    "    validation_data=(test_X, test_y),\n",
    "    verbose=5, \n",
    "    shuffle=False\n",
    ")"
   ]
  },
  {
   "cell_type": "code",
   "execution_count": 137,
   "metadata": {},
   "outputs": [
    {
     "data": {
      "image/png": "[encoded data removed]",
      "text/plain": [
       "<Figure size 432x288 with 1 Axes>"
      ]
     },
     "metadata": {},
     "output_type": "display_data"
    }
   ],
   "source": [
    "plt.plot(history.history['loss'], label='train')\n",
    "plt.plot(history.history['val_loss'], label='test')\n",
    "plt.legend()\n",
    "plt.show()"
   ]
  },
  {
   "cell_type": "code",
   "execution_count": 141,
   "metadata": {},
   "outputs": [],
   "source": [
    "save_model(model, 'data/lstm_model_v1')"
   ]
  },
  {
   "cell_type": "markdown",
   "metadata": {},
   "source": [
    "# Predict on Test Set"
   ]
  },
  {
   "cell_type": "code",
   "execution_count": 158,
   "metadata": {},
   "outputs": [],
   "source": [
    "def generate_test_dataset(ids):\n",
    "    records = []\n",
    "    for _id in ids:\n",
    "        for _date in pd.date_range('2020-01-01', '2020-01-31'):\n",
    "            records.append([_date, _id, None])\n",
    "    \n",
    "    return pd.DataFrame(records, columns=['date', 'id', 'amt']).set_index('date')"
   ]
  },
  {
   "cell_type": "code",
   "execution_count": 161,
   "metadata": {
    "scrolled": true
   },
   "outputs": [
    {
     "data": {
      "text/html": [
       "<div>\n",
       "<style scoped>\n",
       "    .dataframe tbody tr th:only-of-type {\n",
       "        vertical-align: middle;\n",
       "    }\n",
       "\n",
       "    .dataframe tbody tr th {\n",
       "        vertical-align: top;\n",
       "    }\n",
       "\n",
       "    .dataframe thead th {\n",
       "        text-align: right;\n",
       "    }\n",
       "</style>\n",
       "<table border=\"1\" class=\"dataframe\">\n",
       "  <thead>\n",
       "    <tr style=\"text-align: right;\">\n",
       "      <th></th>\n",
       "      <th>id</th>\n",
       "      <th>amt</th>\n",
       "    </tr>\n",
       "    <tr>\n",
       "      <th>date</th>\n",
       "      <th></th>\n",
       "      <th></th>\n",
       "    </tr>\n",
       "  </thead>\n",
       "  <tbody>\n",
       "    <tr>\n",
       "      <th>2020-01-01</th>\n",
       "      <td>0</td>\n",
       "      <td>None</td>\n",
       "    </tr>\n",
       "    <tr>\n",
       "      <th>2020-01-02</th>\n",
       "      <td>0</td>\n",
       "      <td>None</td>\n",
       "    </tr>\n",
       "    <tr>\n",
       "      <th>2020-01-03</th>\n",
       "      <td>0</td>\n",
       "      <td>None</td>\n",
       "    </tr>\n",
       "    <tr>\n",
       "      <th>2020-01-04</th>\n",
       "      <td>0</td>\n",
       "      <td>None</td>\n",
       "    </tr>\n",
       "    <tr>\n",
       "      <th>2020-01-05</th>\n",
       "      <td>0</td>\n",
       "      <td>None</td>\n",
       "    </tr>\n",
       "  </tbody>\n",
       "</table>\n",
       "</div>"
      ],
      "text/plain": [
       "            id   amt\n",
       "date                \n",
       "2020-01-01   0  None\n",
       "2020-01-02   0  None\n",
       "2020-01-03   0  None\n",
       "2020-01-04   0  None\n",
       "2020-01-05   0  None"
      ]
     },
     "execution_count": 161,
     "metadata": {},
     "output_type": "execute_result"
    }
   ],
   "source": [
    "generate_test_dataset(df.id.unique()).head()"
   ]
  },
  {
   "cell_type": "code",
   "execution_count": 163,
   "metadata": {},
   "outputs": [],
   "source": [
    "test_dataset = generate_test_dataset(df.id.unique())"
   ]
  },
  {
   "cell_type": "code",
   "execution_count": 165,
   "metadata": {},
   "outputs": [],
   "source": [
    "# test_dataset.to_csv('data/test_empty.csv')"
   ]
  },
  {
   "cell_type": "markdown",
   "metadata": {},
   "source": [
    "We have to generate predictions for given dates"
   ]
  },
  {
   "cell_type": "code",
   "execution_count": 184,
   "metadata": {},
   "outputs": [],
   "source": [
    "test_dataset_dates = test_dataset.index.unique()"
   ]
  },
  {
   "cell_type": "code",
   "execution_count": 185,
   "metadata": {},
   "outputs": [
    {
     "data": {
      "text/plain": [
       "DatetimeIndex(['2020-01-01', '2020-01-02', '2020-01-03', '2020-01-04',\n",
       "               '2020-01-05', '2020-01-06', '2020-01-07', '2020-01-08',\n",
       "               '2020-01-09', '2020-01-10', '2020-01-11', '2020-01-12',\n",
       "               '2020-01-13', '2020-01-14', '2020-01-15', '2020-01-16',\n",
       "               '2020-01-17', '2020-01-18', '2020-01-19', '2020-01-20',\n",
       "               '2020-01-21', '2020-01-22', '2020-01-23', '2020-01-24',\n",
       "               '2020-01-25', '2020-01-26', '2020-01-27', '2020-01-28',\n",
       "               '2020-01-29', '2020-01-30', '2020-01-31'],\n",
       "              dtype='datetime64[ns]', name='date', freq=None)"
      ]
     },
     "execution_count": 185,
     "metadata": {},
     "output_type": "execute_result"
    }
   ],
   "source": [
    "test_dataset_dates"
   ]
  },
  {
   "cell_type": "code",
   "execution_count": 180,
   "metadata": {},
   "outputs": [],
   "source": [
    "def predict_on_sample(model, sample):\n",
    "    if sample.shape == (1,1,14):\n",
    "        return model.predict(sample)[0][0]\n",
    "    else:\n",
    "        return model.predict(sample.reshape((1,1,14)))[0][0]"
   ]
  },
  {
   "cell_type": "code",
   "execution_count": 182,
   "metadata": {},
   "outputs": [
    {
     "data": {
      "text/plain": [
       "0.04595889"
      ]
     },
     "execution_count": 182,
     "metadata": {},
     "output_type": "execute_result"
    }
   ],
   "source": [
    "predict_on_sample(model, train_X[1])"
   ]
  },
  {
   "cell_type": "markdown",
   "metadata": {},
   "source": [
    "window size = 7, so we need to use last 7 records from test dataset split to use them in predictions"
   ]
  },
  {
   "cell_type": "code",
   "execution_count": 231,
   "metadata": {},
   "outputs": [],
   "source": [
    "def generate_test_data_with_padding(ids):\n",
    "    records = []\n",
    "    for _id in ids:\n",
    "        for _date in pd.date_range('2019-12-25', '2020-01-31'):\n",
    "            if _date > pd.Timestamp('2019-12-31'):\n",
    "                records.append([_date, _id, None])\n",
    "            else:\n",
    "                if _id in df.loc[_date].id.values:\n",
    "                    value = df[df.id==_id].loc[_date, \"amt\"]\n",
    "                else:\n",
    "                    value = None\n",
    "                \n",
    "                records.append([_date, _id, value])\n",
    "    \n",
    "    return pd.DataFrame(records, columns=['date', 'id', 'amt']).set_index('date')"
   ]
  },
  {
   "cell_type": "code",
   "execution_count": 232,
   "metadata": {},
   "outputs": [],
   "source": [
    "test_dataset_padded = generate_test_data_with_padding(df.id.unique())"
   ]
  },
  {
   "cell_type": "code",
   "execution_count": 237,
   "metadata": {},
   "outputs": [
    {
     "data": {
      "text/html": [
       "<div>\n",
       "<style scoped>\n",
       "    .dataframe tbody tr th:only-of-type {\n",
       "        vertical-align: middle;\n",
       "    }\n",
       "\n",
       "    .dataframe tbody tr th {\n",
       "        vertical-align: top;\n",
       "    }\n",
       "\n",
       "    .dataframe thead th {\n",
       "        text-align: right;\n",
       "    }\n",
       "</style>\n",
       "<table border=\"1\" class=\"dataframe\">\n",
       "  <thead>\n",
       "    <tr style=\"text-align: right;\">\n",
       "      <th></th>\n",
       "      <th>id</th>\n",
       "      <th>amt</th>\n",
       "    </tr>\n",
       "    <tr>\n",
       "      <th>date</th>\n",
       "      <th></th>\n",
       "      <th></th>\n",
       "    </tr>\n",
       "  </thead>\n",
       "  <tbody>\n",
       "    <tr>\n",
       "      <th>2019-12-25</th>\n",
       "      <td>0</td>\n",
       "      <td>0.143766</td>\n",
       "    </tr>\n",
       "    <tr>\n",
       "      <th>2019-12-26</th>\n",
       "      <td>0</td>\n",
       "      <td>0.168366</td>\n",
       "    </tr>\n",
       "    <tr>\n",
       "      <th>2019-12-27</th>\n",
       "      <td>0</td>\n",
       "      <td>0.265199</td>\n",
       "    </tr>\n",
       "    <tr>\n",
       "      <th>2019-12-28</th>\n",
       "      <td>0</td>\n",
       "      <td>0.182389</td>\n",
       "    </tr>\n",
       "    <tr>\n",
       "      <th>2019-12-29</th>\n",
       "      <td>0</td>\n",
       "      <td>0.157211</td>\n",
       "    </tr>\n",
       "  </tbody>\n",
       "</table>\n",
       "</div>"
      ],
      "text/plain": [
       "            id       amt\n",
       "date                    \n",
       "2019-12-25   0  0.143766\n",
       "2019-12-26   0  0.168366\n",
       "2019-12-27   0  0.265199\n",
       "2019-12-28   0  0.182389\n",
       "2019-12-29   0  0.157211"
      ]
     },
     "execution_count": 237,
     "metadata": {},
     "output_type": "execute_result"
    }
   ],
   "source": [
    "test_dataset_padded.head()"
   ]
  },
  {
   "cell_type": "markdown",
   "metadata": {},
   "source": [
    "make predictions"
   ]
  },
  {
   "cell_type": "code",
   "execution_count": null,
   "metadata": {
    "scrolled": true
   },
   "outputs": [
    {
     "name": "stdout",
     "output_type": "stream",
     "text": [
      "ID:0\n"
     ]
    },
    {
     "name": "stderr",
     "output_type": "stream",
     "text": [
      "/home/ubuntu/anaconda3/envs/tensorflow_p36/lib/python3.6/site-packages/pandas/core/indexing.py:543: SettingWithCopyWarning: \n",
      "A value is trying to be set on a copy of a slice from a DataFrame.\n",
      "Try using .loc[row_indexer,col_indexer] = value instead\n",
      "\n",
      "See the caveats in the documentation: http://pandas.pydata.org/pandas-docs/stable/indexing.html#indexing-view-versus-copy\n",
      "  self.obj[item] = s\n"
     ]
    },
    {
     "name": "stdout",
     "output_type": "stream",
     "text": [
      "ID:1\n",
      "ID:2\n",
      "ID:3\n",
      "ID:4\n",
      "ID:5\n",
      "ID:6\n",
      "ID:7\n",
      "ID:8\n",
      "ID:9\n",
      "ID:10\n",
      "ID:11\n",
      "ID:12\n",
      "ID:13\n",
      "ID:14\n",
      "ID:15\n",
      "ID:16\n",
      "ID:17\n",
      "ID:18\n",
      "ID:19\n",
      "ID:20\n",
      "ID:21\n",
      "ID:22\n",
      "ID:23\n",
      "ID:24\n",
      "ID:25\n",
      "ID:26\n",
      "ID:27\n",
      "ID:28\n",
      "ID:29\n",
      "ID:30\n",
      "ID:31\n",
      "ID:32\n"
     ]
    }
   ],
   "source": [
    "for _id in df.id.unique():\n",
    "    print(f'ID:{_id}')\n",
    "    _df = test_dataset_padded[test_dataset_padded.id == _id]\n",
    "    for st_idx in range(len(_df)-7):\n",
    "        prev_amts = _df.iloc[st_idx:st_idx+7, -1].fillna(0.0).tolist()\n",
    "        sample_input = [_id]*7 + prev_amts\n",
    "        \n",
    "        prediction = predict_on_sample(model, np.array(sample_input))\n",
    "        _df.iloc[st_idx+7, -1] = prediction\n",
    "        \n",
    "        test_dataset[test_dataset.id==_id].loc[_df.index[st_idx+7], \"amt\"] = prediction"
   ]
  },
  {
   "cell_type": "code",
   "execution_count": null,
   "metadata": {},
   "outputs": [],
   "source": [
    "test_"
   ]
  }
 ],
 "metadata": {
  "kernelspec": {
   "display_name": "Environment (conda_tensorflow_p36)",
   "language": "python",
   "name": "conda_tensorflow_p36"
  }
 },
 "nbformat": 4,
 "nbformat_minor": 2
}
